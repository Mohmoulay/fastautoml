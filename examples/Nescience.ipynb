{
 "cells": [
  {
   "cell_type": "markdown",
   "metadata": {},
   "source": [
    "# Evaluation of the Nescience class"
   ]
  },
  {
   "cell_type": "code",
   "execution_count": 1,
   "metadata": {},
   "outputs": [
    {
     "name": "stderr",
     "output_type": "stream",
     "text": [
      "/home/rleiva/anaconda3/envs/sklearn/lib/python3.8/site-packages/sklearn/utils/deprecation.py:144: FutureWarning: The sklearn.feature_selection.base module is  deprecated in version 0.22 and will be removed in version 0.24. The corresponding classes / functions should instead be imported from sklearn.feature_selection. Anything that cannot be imported from sklearn.feature_selection is now part of the private API.\n",
      "  warnings.warn(message, FutureWarning)\n"
     ]
    }
   ],
   "source": [
    "import numpy as np\n",
    "\n",
    "from fastautoml.fastautoml import Nescience, Miscoding, Inaccuracy, Surfeit\n",
    "\n",
    "from sklearn.tree import DecisionTreeClassifier\n",
    "from sklearn.neural_network import MLPClassifier\n",
    "\n",
    "from sklearn.datasets import load_breast_cancer\n",
    "from sklearn.datasets import load_digits\n",
    "\n",
    "from sklearn.model_selection import train_test_split\n",
    "from sklearn.model_selection import cross_val_score\n",
    "\n",
    "import matplotlib.pyplot as plt\n",
    "from matplotlib.pylab import rcParams"
   ]
  },
  {
   "cell_type": "code",
   "execution_count": 2,
   "metadata": {},
   "outputs": [],
   "source": [
    "rcParams['figure.figsize'] = 10, 10"
   ]
  },
  {
   "cell_type": "markdown",
   "metadata": {},
   "source": [
    "#### Nescience of a decision tree classifier"
   ]
  },
  {
   "cell_type": "code",
   "execution_count": 3,
   "metadata": {},
   "outputs": [],
   "source": [
    "data = load_digits()\n",
    "X = data.data\n",
    "y = data.target"
   ]
  },
  {
   "cell_type": "code",
   "execution_count": 4,
   "metadata": {},
   "outputs": [
    {
     "data": {
      "text/plain": [
       "1.0"
      ]
     },
     "execution_count": 4,
     "metadata": {},
     "output_type": "execute_result"
    }
   ],
   "source": [
    "tree = DecisionTreeClassifier()\n",
    "tree.fit(X, y)\n",
    "tree.score(X, y)"
   ]
  },
  {
   "cell_type": "code",
   "execution_count": 5,
   "metadata": {},
   "outputs": [
    {
     "data": {
      "text/plain": [
       "Nescience()"
      ]
     },
     "execution_count": 5,
     "metadata": {},
     "output_type": "execute_result"
    }
   ],
   "source": [
    "nescience = Nescience()\n",
    "nescience.fit(X, y)"
   ]
  },
  {
   "cell_type": "code",
   "execution_count": 6,
   "metadata": {},
   "outputs": [
    {
     "data": {
      "text/plain": [
       "0.5553661231443324"
      ]
     },
     "execution_count": 6,
     "metadata": {},
     "output_type": "execute_result"
    }
   ],
   "source": [
    "nescience.nescience(tree)"
   ]
  },
  {
   "cell_type": "markdown",
   "metadata": {},
   "source": [
    "#### Comparison"
   ]
  },
  {
   "cell_type": "code",
   "execution_count": 7,
   "metadata": {},
   "outputs": [],
   "source": [
    "data = load_breast_cancer()\n",
    "X = data.data\n",
    "y = data.target"
   ]
  },
  {
   "cell_type": "code",
   "execution_count": 8,
   "metadata": {},
   "outputs": [
    {
     "data": {
      "text/plain": [
       "0.9789103690685413"
      ]
     },
     "execution_count": 8,
     "metadata": {},
     "output_type": "execute_result"
    }
   ],
   "source": [
    "tree = DecisionTreeClassifier(max_depth=3)\n",
    "tree.fit(X, y)\n",
    "tree.score(X, y)"
   ]
  },
  {
   "cell_type": "code",
   "execution_count": 9,
   "metadata": {},
   "outputs": [
    {
     "data": {
      "text/plain": [
       "0.6068801706957987"
      ]
     },
     "execution_count": 9,
     "metadata": {},
     "output_type": "execute_result"
    }
   ],
   "source": [
    "nescience = Nescience()\n",
    "nescience.fit(X, y)\n",
    "nescience.nescience(tree)"
   ]
  },
  {
   "cell_type": "code",
   "execution_count": 10,
   "metadata": {},
   "outputs": [
    {
     "data": {
      "text/plain": [
       "0.9472759226713533"
      ]
     },
     "execution_count": 10,
     "metadata": {},
     "output_type": "execute_result"
    }
   ],
   "source": [
    "nn = MLPClassifier()\n",
    "nn.fit(X, y)\n",
    "nn.score(X, y)"
   ]
  },
  {
   "cell_type": "code",
   "execution_count": 11,
   "metadata": {},
   "outputs": [
    {
     "name": "stderr",
     "output_type": "stream",
     "text": [
      "/home/rleiva/anaconda3/envs/sklearn/lib/python3.8/site-packages/sklearn/preprocessing/_discretization.py:195: UserWarning: Bins whose width are too small (i.e., <= 1e-8) in feature 0 are removed. Consider decreasing the number of bins.\n",
      "  warnings.warn('Bins whose width are too small (i.e., <= '\n"
     ]
    },
    {
     "data": {
      "text/plain": [
       "0.761718907936427"
      ]
     },
     "execution_count": 11,
     "metadata": {},
     "output_type": "execute_result"
    }
   ],
   "source": [
    "nescience.nescience(nn)"
   ]
  },
  {
   "cell_type": "markdown",
   "metadata": {},
   "source": [
    "#### Evolution of Nescience"
   ]
  },
  {
   "cell_type": "code",
   "execution_count": 12,
   "metadata": {},
   "outputs": [],
   "source": [
    "data = load_breast_cancer()\n",
    "# data = load_digits()\n",
    "X = data.data\n",
    "y = data.target"
   ]
  },
  {
   "cell_type": "code",
   "execution_count": 13,
   "metadata": {},
   "outputs": [],
   "source": [
    "lmiscoding  = list()\n",
    "linaccuracy = list()\n",
    "lredudancy  = list()\n",
    "lnescience  = list()\n",
    "lcrossval   = list()\n",
    "\n",
    "miscoding = Miscoding()\n",
    "miscoding.fit(X, y)\n",
    "\n",
    "inaccuracy = Inaccuracy()\n",
    "inaccuracy.fit(X, y)\n",
    "\n",
    "surfeit = Surfeit()\n",
    "surfeit.fit(X, y)\n",
    "\n",
    "nescience = Nescience()\n",
    "# nescience.fit(X, y, method=\"Harmonic\")\n",
    "nescience.fit(X, y)\n",
    "\n",
    "for i in range(1, 20):\n",
    "    \n",
    "    tree = DecisionTreeClassifier(max_depth=i)\n",
    "    tree.fit(X, y)\n",
    "    \n",
    "    lmiscoding.append(miscoding.miscoding_model(tree))\n",
    "    linaccuracy.append(inaccuracy.inaccuracy_model(tree))\n",
    "    lredudancy.append(surfeit.surfeit_model(tree))\n",
    "    lnescience.append(nescience.nescience(tree))\n",
    "\n",
    "    scores = cross_val_score(tree, X, y, cv=30)\n",
    "    lcrossval.append(1 - scores.mean())"
   ]
  },
  {
   "cell_type": "code",
   "execution_count": 14,
   "metadata": {},
   "outputs": [
    {
     "data": {
      "image/png": "[encoded data removed]",
      "text/plain": [
       "<Figure size 720x720 with 5 Axes>"
      ]
     },
     "metadata": {
      "needs_background": "light"
     },
     "output_type": "display_data"
    }
   ],
   "source": [
    "fig, axs = plt.subplots(5, gridspec_kw={'hspace': 0.4, 'wspace': 0})\n",
    "\n",
    "axs[0].plot(range(1, 20), lmiscoding)\n",
    "axs[0].set_title('Miscoding')\n",
    "axs[0].set_xticks(range(1, 20))\n",
    "axs[0].set_xticklabels(range(1, 20))\n",
    "\n",
    "axs[1].plot(range(1, 20), linaccuracy)\n",
    "axs[1].set_title('Inaccuracy')\n",
    "axs[1].set_xticks(range(1, 20))\n",
    "axs[1].set_xticklabels(range(1, 20))\n",
    "\n",
    "axs[2].plot(range(1, 20), lredudancy)\n",
    "axs[2].set_title('Redudancy')\n",
    "axs[2].set_xticks(range(1, 20))\n",
    "axs[2].set_xticklabels(range(1, 20))\n",
    "\n",
    "axs[3].plot(range(1, 20), lnescience)\n",
    "axs[3].set_title('Nescience')\n",
    "axs[3].set_xticks(range(1, 20))\n",
    "axs[3].set_xticklabels(range(1, 20))\n",
    "\n",
    "axs[4].plot(range(1, 20), lcrossval)\n",
    "axs[4].set_title('Cross Validation')\n",
    "axs[4].set_xticks(range(1, 20))\n",
    "axs[4].set_xticklabels(range(1, 20))\n",
    "\n",
    "plt.show()"
   ]
  },
  {
   "cell_type": "code",
   "execution_count": 15,
   "metadata": {},
   "outputs": [
    {
     "data": {
      "image/png": "[encoded data removed]",
      "text/plain": [
       "<Figure size 720x720 with 2 Axes>"
      ]
     },
     "metadata": {
      "needs_background": "light"
     },
     "output_type": "display_data"
    }
   ],
   "source": [
    "fig, axs = plt.subplots(2, gridspec_kw={'hspace': 0.4, 'wspace': 0})\n",
    "\n",
    "axs[0].plot(range(1, 20), lnescience)\n",
    "axs[0].set_title('Nescience')\n",
    "axs[0].set_xticks(range(1, 20))\n",
    "axs[0].set_xticklabels(range(1, 20))\n",
    "\n",
    "axs[1].plot(range(1, 20), lcrossval)\n",
    "axs[1].set_title('Cross Validation')\n",
    "axs[1].set_xticks(range(1, 20))\n",
    "axs[1].set_xticklabels(range(1, 20))\n",
    "\n",
    "plt.show()"
   ]
  },
  {
   "cell_type": "code",
   "execution_count": 16,
   "metadata": {},
   "outputs": [
    {
     "data": {
      "text/plain": [
       "(array([8]),)"
      ]
     },
     "execution_count": 16,
     "metadata": {},
     "output_type": "execute_result"
    }
   ],
   "source": [
    "np.where(lnescience == np.min(lnescience))"
   ]
  },
  {
   "cell_type": "code",
   "execution_count": 17,
   "metadata": {},
   "outputs": [
    {
     "data": {
      "text/plain": [
       "(array([6]),)"
      ]
     },
     "execution_count": 17,
     "metadata": {},
     "output_type": "execute_result"
    }
   ],
   "source": [
    "np.where(lcrossval == np.min(lcrossval))"
   ]
  },
  {
   "cell_type": "markdown",
   "metadata": {},
   "source": [
    "### Hyperparameters Selection"
   ]
  },
  {
   "cell_type": "code",
   "execution_count": 18,
   "metadata": {},
   "outputs": [],
   "source": [
    "import numpy as np\n",
    "\n",
    "from sklearn.model_selection import GridSearchCV\n",
    "from sklearn.model_selection import train_test_split\n",
    "from sklearn.metrics import classification_report\n",
    "from sklearn.datasets import load_digits"
   ]
  },
  {
   "cell_type": "markdown",
   "metadata": {},
   "source": [
    "Implement an scoring object based on the Nescience class"
   ]
  },
  {
   "cell_type": "code",
   "execution_count": 19,
   "metadata": {},
   "outputs": [],
   "source": [
    "from fastautoml.fastautoml import Nescience\n",
    "\n",
    "def my_custom_loss_func(estimator, X, y):\n",
    "    \n",
    "    nsc = Nescience()\n",
    "    nsc.fit(X, y)\n",
    "    nescience = nsc.nescience(estimator)\n",
    "    \n",
    "    # scikit-learn expect that higher numbers are better\n",
    "    score = -nescience\n",
    "    \n",
    "    return score"
   ]
  },
  {
   "cell_type": "markdown",
   "metadata": {},
   "source": [
    "Load dataset"
   ]
  },
  {
   "cell_type": "code",
   "execution_count": 20,
   "metadata": {},
   "outputs": [],
   "source": [
    "data = load_digits()"
   ]
  },
  {
   "cell_type": "code",
   "execution_count": 21,
   "metadata": {},
   "outputs": [],
   "source": [
    "X_train, X_test, y_train, y_test = train_test_split(data.data, data.target, test_size=0.3, random_state=0)"
   ]
  },
  {
   "cell_type": "markdown",
   "metadata": {},
   "source": [
    "Multilayer Perceptron"
   ]
  },
  {
   "cell_type": "code",
   "execution_count": 22,
   "metadata": {},
   "outputs": [],
   "source": [
    "from sklearn.neural_network import MLPClassifier"
   ]
  },
  {
   "cell_type": "code",
   "execution_count": 23,
   "metadata": {},
   "outputs": [],
   "source": [
    "parameters = {'solver': ['lbfgs'],\n",
    "              'max_iter': [1000, 1500, 2000 ], \n",
    "              'alpha': 10.0 ** -np.arange(1, 10, 3),\n",
    "              'hidden_layer_sizes':[(60,), (100,), (60, 60,), (100, 100,), (60, 60, 60,), (100, 100, 100,)]}"
   ]
  },
  {
   "cell_type": "markdown",
   "metadata": {},
   "source": [
    "'score' based search"
   ]
  },
  {
   "cell_type": "code",
   "execution_count": 24,
   "metadata": {},
   "outputs": [],
   "source": [
    "clf_std = GridSearchCV(estimator=MLPClassifier(), param_grid=parameters, cv=3, iid=True, n_jobs=-1)"
   ]
  },
  {
   "cell_type": "code",
   "execution_count": 25,
   "metadata": {},
   "outputs": [
    {
     "name": "stderr",
     "output_type": "stream",
     "text": [
      "/home/rleiva/anaconda3/envs/sklearn/lib/python3.8/site-packages/sklearn/model_selection/_search.py:821: FutureWarning: The parameter 'iid' is deprecated in 0.22 and will be removed in 0.24.\n",
      "  warnings.warn(\n"
     ]
    },
    {
     "data": {
      "text/plain": [
       "GridSearchCV(cv=3, error_score=nan,\n",
       "             estimator=MLPClassifier(activation='relu', alpha=0.0001,\n",
       "                                     batch_size='auto', beta_1=0.9,\n",
       "                                     beta_2=0.999, early_stopping=False,\n",
       "                                     epsilon=1e-08, hidden_layer_sizes=(100,),\n",
       "                                     learning_rate='constant',\n",
       "                                     learning_rate_init=0.001, max_fun=15000,\n",
       "                                     max_iter=200, momentum=0.9,\n",
       "                                     n_iter_no_change=10,\n",
       "                                     nesterovs_momentum=True, power_t=0.5,\n",
       "                                     random_state...\n",
       "                                     solver='adam', tol=0.0001,\n",
       "                                     validation_fraction=0.1, verbose=False,\n",
       "                                     warm_start=False),\n",
       "             iid=True, n_jobs=-1,\n",
       "             param_grid={'alpha': array([1.e-01, 1.e-04, 1.e-07]),\n",
       "                         'hidden_layer_sizes': [(60,), (100,), (60, 60),\n",
       "                                                (100, 100), (60, 60, 60),\n",
       "                                                (100, 100, 100)],\n",
       "                         'max_iter': [1000, 1500, 2000], 'solver': ['lbfgs']},\n",
       "             pre_dispatch='2*n_jobs', refit=True, return_train_score=False,\n",
       "             scoring=None, verbose=0)"
      ]
     },
     "execution_count": 25,
     "metadata": {},
     "output_type": "execute_result"
    }
   ],
   "source": [
    "clf_std.fit(X_train, y_train)"
   ]
  },
  {
   "cell_type": "code",
   "execution_count": 26,
   "metadata": {},
   "outputs": [
    {
     "data": {
      "text/plain": [
       "{'alpha': 0.1,\n",
       " 'hidden_layer_sizes': (100,),\n",
       " 'max_iter': 2000,\n",
       " 'solver': 'lbfgs'}"
      ]
     },
     "execution_count": 26,
     "metadata": {},
     "output_type": "execute_result"
    }
   ],
   "source": [
    "clf_std.best_params_"
   ]
  },
  {
   "cell_type": "code",
   "execution_count": 27,
   "metadata": {},
   "outputs": [
    {
     "name": "stdout",
     "output_type": "stream",
     "text": [
      "              precision    recall  f1-score   support\n",
      "\n",
      "           0       1.00      1.00      1.00        45\n",
      "           1       0.90      1.00      0.95        52\n",
      "           2       1.00      0.98      0.99        53\n",
      "           3       1.00      0.94      0.97        54\n",
      "           4       1.00      1.00      1.00        48\n",
      "           5       0.96      0.96      0.96        57\n",
      "           6       0.98      0.98      0.98        60\n",
      "           7       1.00      0.96      0.98        53\n",
      "           8       0.98      0.92      0.95        61\n",
      "           9       0.92      0.98      0.95        57\n",
      "\n",
      "    accuracy                           0.97       540\n",
      "   macro avg       0.97      0.97      0.97       540\n",
      "weighted avg       0.97      0.97      0.97       540\n",
      "\n"
     ]
    }
   ],
   "source": [
    "y_true, y_pred = y_test, clf_std.predict(X_test)\n",
    "print(classification_report(y_true, y_pred))"
   ]
  },
  {
   "cell_type": "markdown",
   "metadata": {},
   "source": [
    "'nescience' based search"
   ]
  },
  {
   "cell_type": "code",
   "execution_count": 28,
   "metadata": {},
   "outputs": [],
   "source": [
    "import time"
   ]
  },
  {
   "cell_type": "code",
   "execution_count": 29,
   "metadata": {},
   "outputs": [],
   "source": [
    "clf_nsc = GridSearchCV(estimator=MLPClassifier(), param_grid=parameters, cv=3, scoring=my_custom_loss_func, iid=True)"
   ]
  },
  {
   "cell_type": "code",
   "execution_count": 30,
   "metadata": {},
   "outputs": [
    {
     "name": "stderr",
     "output_type": "stream",
     "text": [
      "/home/rleiva/anaconda3/envs/sklearn/lib/python3.8/site-packages/sklearn/model_selection/_search.py:821: FutureWarning: The parameter 'iid' is deprecated in 0.22 and will be removed in 0.24.\n",
      "  warnings.warn(\n"
     ]
    }
   ],
   "source": [
    "start = time.time()\n",
    "clf_nsc.fit(X_train, y_train)\n",
    "stop = time.time()"
   ]
  },
  {
   "cell_type": "code",
   "execution_count": 31,
   "metadata": {},
   "outputs": [
    {
     "data": {
      "text/plain": [
       "384.6172411441803"
      ]
     },
     "execution_count": 31,
     "metadata": {},
     "output_type": "execute_result"
    }
   ],
   "source": [
    "stop - start"
   ]
  },
  {
   "cell_type": "code",
   "execution_count": 32,
   "metadata": {},
   "outputs": [
    {
     "data": {
      "text/plain": [
       "{'alpha': 0.1,\n",
       " 'hidden_layer_sizes': (60,),\n",
       " 'max_iter': 1500,\n",
       " 'solver': 'lbfgs'}"
      ]
     },
     "execution_count": 32,
     "metadata": {},
     "output_type": "execute_result"
    }
   ],
   "source": [
    "clf_nsc.best_params_"
   ]
  },
  {
   "cell_type": "code",
   "execution_count": 33,
   "metadata": {},
   "outputs": [
    {
     "name": "stdout",
     "output_type": "stream",
     "text": [
      "              precision    recall  f1-score   support\n",
      "\n",
      "           0       0.98      1.00      0.99        45\n",
      "           1       0.88      1.00      0.94        52\n",
      "           2       1.00      0.96      0.98        53\n",
      "           3       0.98      0.96      0.97        54\n",
      "           4       1.00      0.98      0.99        48\n",
      "           5       0.98      0.96      0.97        57\n",
      "           6       1.00      0.98      0.99        60\n",
      "           7       0.98      0.96      0.97        53\n",
      "           8       0.96      0.89      0.92        61\n",
      "           9       0.90      0.96      0.93        57\n",
      "\n",
      "    accuracy                           0.96       540\n",
      "   macro avg       0.97      0.97      0.97       540\n",
      "weighted avg       0.97      0.96      0.96       540\n",
      "\n"
     ]
    }
   ],
   "source": [
    "y_true, y_pred = y_test, clf_nsc.predict(X_test)\n",
    "print(classification_report(y_true, y_pred))"
   ]
  }
 ],
 "metadata": {
  "kernelspec": {
   "display_name": "Python 3",
   "language": "python",
   "name": "python3"
  },
  "language_info": {
   "codemirror_mode": {
    "name": "ipython",
    "version": 3
   },
   "file_extension": ".py",
   "mimetype": "text/x-python",
   "name": "python",
   "nbconvert_exporter": "python",
   "pygments_lexer": "ipython3",
   "version": "3.8.1"
  }
 },
 "nbformat": 4,
 "nbformat_minor": 4
}
